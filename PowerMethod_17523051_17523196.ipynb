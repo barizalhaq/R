{
 "cells": [
  {
   "cell_type": "code",
   "execution_count": 35,
   "metadata": {},
   "outputs": [],
   "source": [
    "powerMethod <- function(A, v = NULL, eps = 1e-6, maxiter = 100, plot=FALSE)\n",
    "{\n",
    "  if (!is_square_matrix(A))\n",
    "    stop(\"'powerMethod()' requires a square numeric matrix\")\n",
    "\n",
    "  if (!is.null(v))\n",
    "  {\n",
    "    if (!is.vector(v) || !is.numeric(v))\n",
    "      stop(\"'powerMethod()' requires 'v' to be a numeric vector\")\n",
    "    if (nrow(A) != length(v))\n",
    "      stop(\"'A' is not conformable with 'v' in 'powerMethod()'\")\n",
    "  } else {\n",
    "    v = rep(1, nrow(A))\n",
    "  }\n",
    "\n",
    "  if (!eps > 0)\n",
    "    eps = 1e-6\n",
    "\n",
    "  v_old = v\n",
    "  steps = 1\n",
    "  vectors <- list(v)\n",
    "  repeat\n",
    "  {\n",
    "    v_new = A %*% v_old\n",
    "    v_new = v_new / len(v_new)\n",
    "    if (len(abs(v_new) - abs(v_old)) <= eps) break\n",
    "    v_old = v_new\n",
    "    steps = steps + 1\n",
    "    vectors[[steps]] <- c(v_new)\n",
    "    if (steps == maxiter) break\n",
    "  }\n",
    "  # Rayleigh quotient gives the eigenvalue\n",
    "  lambda = sum((A %*% v_new) * v_new)\n",
    "  # output\n",
    "  res <- list(iter = steps, vector = v_new, value = lambda)\n",
    "  vectors <- do.call(cbind, vectors)\n",
    "  colnames(vectors) <- paste0(\"v\", 1:ncol(vectors))\n",
    "  res <- c(vector_iterations=list(vectors), res)\n",
    "  if(plot){\n",
    "      vecs <- t(vectors)\n",
    "      pos <- c(min(c(vecs, 0))-.1, max(vecs) + .1)\n",
    "      plot(pos, pos, type=\"n\", xlab=\"x1\", ylab=\"x2\")\n",
    "      col <- sapply(1:nrow(vecs) / nrow(vecs), \n",
    "      \t\t\t  function(x) grDevices::adjustcolor('red', x))\n",
    "      vectors(vecs, col=col)\n",
    "      abline(h=0, v=0, col=\"gray\")\n",
    "      return(invisible(res))\n",
    "  }\n",
    "  res\n",
    "}"
   ]
  },
  {
   "cell_type": "code",
   "execution_count": 46,
   "metadata": {},
   "outputs": [
    {
     "data": {
      "text/html": [
       "<table>\n",
       "<tbody>\n",
       "\t<tr><td>0.9284767</td><td>0.7071068</td></tr>\n",
       "\t<tr><td>0.3713907</td><td>0.7071068</td></tr>\n",
       "</tbody>\n",
       "</table>\n"
      ],
      "text/latex": [
       "\\begin{tabular}{ll}\n",
       "\t 0.9284767 & 0.7071068\\\\\n",
       "\t 0.3713907 & 0.7071068\\\\\n",
       "\\end{tabular}\n"
      ],
      "text/markdown": [
       "\n",
       "| 0.9284767 | 0.7071068 | \n",
       "| 0.3713907 | 0.7071068 | \n",
       "\n",
       "\n"
      ],
      "text/plain": [
       "     [,1]      [,2]     \n",
       "[1,] 0.9284767 0.7071068\n",
       "[2,] 0.3713907 0.7071068"
      ]
     },
     "metadata": {},
     "output_type": "display_data"
    },
    {
     "data": {
      "text/html": [
       "<dl>\n",
       "\t<dt>$vector_iterations</dt>\n",
       "\t\t<dd><table>\n",
       "<thead><tr><th scope=col>v1</th><th scope=col>v2</th><th scope=col>v3</th><th scope=col>v4</th><th scope=col>v5</th><th scope=col>v6</th><th scope=col>v7</th><th scope=col>v8</th><th scope=col>v9</th><th scope=col>v10</th><th scope=col>v11</th><th scope=col>v12</th><th scope=col>v13</th><th scope=col>v14</th><th scope=col>v15</th><th scope=col>v16</th><th scope=col>v17</th><th scope=col>v18</th><th scope=col>v19</th><th scope=col>v20</th></tr></thead>\n",
       "<tbody>\n",
       "\t<tr><td>1        </td><td>0.8944272</td><td>0.9486833</td><td>0.9191450</td><td>0.9333456</td><td>0.9260924</td><td>0.9296815</td><td>0.9278774</td><td>0.9287771</td><td>0.9283267</td><td>0.9285517</td><td>0.9284392</td><td>0.9284955</td><td>0.9284673</td><td>0.9284814</td><td>0.9284743</td><td>0.9284779</td><td>0.9284761</td><td>0.9284770</td><td>0.9284765</td></tr>\n",
       "\t<tr><td>0        </td><td>0.4472136</td><td>0.3162278</td><td>0.3939193</td><td>0.3589791</td><td>0.3772969</td><td>0.3683644</td><td>0.3728853</td><td>0.3706388</td><td>0.3717655</td><td>0.3712030</td><td>0.3714845</td><td>0.3713438</td><td>0.3714141</td><td>0.3713790</td><td>0.3713965</td><td>0.3713877</td><td>0.3713921</td><td>0.3713899</td><td>0.3713910</td></tr>\n",
       "</tbody>\n",
       "</table>\n",
       "</dd>\n",
       "\t<dt>$iter</dt>\n",
       "\t\t<dd>20</dd>\n",
       "\t<dt>$vector</dt>\n",
       "\t\t<dd><table>\n",
       "<tbody>\n",
       "\t<tr><td>0.9284768</td></tr>\n",
       "\t<tr><td>0.3713905</td></tr>\n",
       "</tbody>\n",
       "</table>\n",
       "</dd>\n",
       "\t<dt>$value</dt>\n",
       "\t\t<dd>2.00000138118401</dd>\n",
       "</dl>\n"
      ],
      "text/latex": [
       "\\begin{description}\n",
       "\\item[\\$vector\\_iterations] \\begin{tabular}{llllllllllllllllllll}\n",
       " v1 & v2 & v3 & v4 & v5 & v6 & v7 & v8 & v9 & v10 & v11 & v12 & v13 & v14 & v15 & v16 & v17 & v18 & v19 & v20\\\\\n",
       "\\hline\n",
       "\t 1         & 0.8944272 & 0.9486833 & 0.9191450 & 0.9333456 & 0.9260924 & 0.9296815 & 0.9278774 & 0.9287771 & 0.9283267 & 0.9285517 & 0.9284392 & 0.9284955 & 0.9284673 & 0.9284814 & 0.9284743 & 0.9284779 & 0.9284761 & 0.9284770 & 0.9284765\\\\\n",
       "\t 0         & 0.4472136 & 0.3162278 & 0.3939193 & 0.3589791 & 0.3772969 & 0.3683644 & 0.3728853 & 0.3706388 & 0.3717655 & 0.3712030 & 0.3714845 & 0.3713438 & 0.3714141 & 0.3713790 & 0.3713965 & 0.3713877 & 0.3713921 & 0.3713899 & 0.3713910\\\\\n",
       "\\end{tabular}\n",
       "\n",
       "\\item[\\$iter] 20\n",
       "\\item[\\$vector] \\begin{tabular}{l}\n",
       "\t 0.9284768\\\\\n",
       "\t 0.3713905\\\\\n",
       "\\end{tabular}\n",
       "\n",
       "\\item[\\$value] 2.00000138118401\n",
       "\\end{description}\n"
      ],
      "text/markdown": [
       "$vector_iterations\n",
       ":   \n",
       "v1 | v2 | v3 | v4 | v5 | v6 | v7 | v8 | v9 | v10 | v11 | v12 | v13 | v14 | v15 | v16 | v17 | v18 | v19 | v20 | \n",
       "|---|---|\n",
       "| 1         | 0.8944272 | 0.9486833 | 0.9191450 | 0.9333456 | 0.9260924 | 0.9296815 | 0.9278774 | 0.9287771 | 0.9283267 | 0.9285517 | 0.9284392 | 0.9284955 | 0.9284673 | 0.9284814 | 0.9284743 | 0.9284779 | 0.9284761 | 0.9284770 | 0.9284765 | \n",
       "| 0         | 0.4472136 | 0.3162278 | 0.3939193 | 0.3589791 | 0.3772969 | 0.3683644 | 0.3728853 | 0.3706388 | 0.3717655 | 0.3712030 | 0.3714845 | 0.3713438 | 0.3714141 | 0.3713790 | 0.3713965 | 0.3713877 | 0.3713921 | 0.3713899 | 0.3713910 | \n",
       "\n",
       "\n",
       "\n",
       "$iter\n",
       ":   20\n",
       "$vector\n",
       ":   \n",
       "| 0.9284768 | \n",
       "| 0.3713905 | \n",
       "\n",
       "\n",
       "\n",
       "$value\n",
       ":   2.00000138118401\n",
       "\n",
       "\n"
      ],
      "text/plain": [
       "$vector_iterations\n",
       "     v1        v2        v3        v4        v5        v6        v7        v8\n",
       "[1,]  1 0.8944272 0.9486833 0.9191450 0.9333456 0.9260924 0.9296815 0.9278774\n",
       "[2,]  0 0.4472136 0.3162278 0.3939193 0.3589791 0.3772969 0.3683644 0.3728853\n",
       "            v9       v10       v11       v12       v13       v14       v15\n",
       "[1,] 0.9287771 0.9283267 0.9285517 0.9284392 0.9284955 0.9284673 0.9284814\n",
       "[2,] 0.3706388 0.3717655 0.3712030 0.3714845 0.3713438 0.3714141 0.3713790\n",
       "           v16       v17       v18       v19       v20\n",
       "[1,] 0.9284743 0.9284779 0.9284761 0.9284770 0.9284765\n",
       "[2,] 0.3713965 0.3713877 0.3713921 0.3713899 0.3713910\n",
       "\n",
       "$iter\n",
       "[1] 20\n",
       "\n",
       "$vector\n",
       "          [,1]\n",
       "[1,] 0.9284768\n",
       "[2,] 0.3713905\n",
       "\n",
       "$value\n",
       "[1] 2.000001\n"
      ]
     },
     "metadata": {},
     "output_type": "display_data"
    }
   ],
   "source": [
    "C <- matrix(c(4, -5, 2, -3), 2, 2, byrow = T)\n",
    "eigen(C)$vectors\n",
    "powerMethod(C, v = c(1,0))"
   ]
  },
  {
   "cell_type": "code",
   "execution_count": 47,
   "metadata": {},
   "outputs": [
    {
     "data": {
      "text/html": [
       "<table>\n",
       "<tbody>\n",
       "\t<tr><td> 3.591748e-16</td><td>-0.5773503   </td><td> 0.5345225   </td></tr>\n",
       "\t<tr><td> 8.944272e-01</td><td>-0.5773503   </td><td>-0.8017837   </td></tr>\n",
       "\t<tr><td>-4.472136e-01</td><td> 0.5773503   </td><td> 0.2672612   </td></tr>\n",
       "</tbody>\n",
       "</table>\n"
      ],
      "text/latex": [
       "\\begin{tabular}{lll}\n",
       "\t  3.591748e-16 & -0.5773503    &  0.5345225   \\\\\n",
       "\t  8.944272e-01 & -0.5773503    & -0.8017837   \\\\\n",
       "\t -4.472136e-01 &  0.5773503    &  0.2672612   \\\\\n",
       "\\end{tabular}\n"
      ],
      "text/markdown": [
       "\n",
       "|  3.591748e-16 | -0.5773503    |  0.5345225    | \n",
       "|  8.944272e-01 | -0.5773503    | -0.8017837    | \n",
       "| -4.472136e-01 |  0.5773503    |  0.2672612    | \n",
       "\n",
       "\n"
      ],
      "text/plain": [
       "     [,1]          [,2]       [,3]      \n",
       "[1,]  3.591748e-16 -0.5773503  0.5345225\n",
       "[2,]  8.944272e-01 -0.5773503 -0.8017837\n",
       "[3,] -4.472136e-01  0.5773503  0.2672612"
      ]
     },
     "metadata": {},
     "output_type": "display_data"
    },
    {
     "data": {
      "text/html": [
       "<dl>\n",
       "\t<dt>$vector_iterations</dt>\n",
       "\t\t<dd><table>\n",
       "<thead><tr><th scope=col>v1</th><th scope=col>v2</th><th scope=col>v3</th><th scope=col>v4</th><th scope=col>v5</th><th scope=col>v6</th><th scope=col>v7</th><th scope=col>v8</th><th scope=col>v9</th><th scope=col>v10</th><th scope=col>v11</th><th scope=col>v12</th><th scope=col>v13</th><th scope=col>v14</th><th scope=col>v15</th><th scope=col>v16</th><th scope=col>v17</th><th scope=col>v18</th><th scope=col>v19</th></tr></thead>\n",
       "<tbody>\n",
       "\t<tr><td>1            </td><td>-0.1023587   </td><td>-0.06482582  </td><td>-0.03570132  </td><td>-0.01869586  </td><td>-0.009563644 </td><td>-0.004836385 </td><td>-0.002431917 </td><td>-0.0012194   </td><td>-0.0006105621</td><td>-0.0003054967</td><td>-0.0001528023</td><td>-7.641462e-05</td><td>-3.821068e-05</td><td>-1.910618e-05</td><td>-9.553302e-06</td><td>-4.776704e-06</td><td>-2.388365e-06</td><td>-1.194186e-06</td></tr>\n",
       "\t<tr><td>1            </td><td> 0.9212281   </td><td> 0.90756148  </td><td> 0.90145839  </td><td> 0.89812012  </td><td> 0.896325949 </td><td> 0.895390670 </td><td> 0.894912587 </td><td> 0.8946708   </td><td> 0.8945492399</td><td> 0.8944882744</td><td> 0.8944577475</td><td> 8.944425e-01</td><td> 8.944348e-01</td><td> 8.944310e-01</td><td> 8.944291e-01</td><td> 8.944281e-01</td><td> 8.944277e-01</td><td> 8.944274e-01</td></tr>\n",
       "\t<tr><td>1            </td><td>-0.3753152   </td><td>-0.41488525  </td><td>-0.43139098  </td><td>-0.43935260  </td><td>-0.443292600 </td><td>-0.445255159 </td><td>-0.446234858 </td><td>-0.4467243   </td><td>-0.4469689974</td><td>-0.4470913035</td><td>-0.4471524513</td><td>-4.471830e-01</td><td>-4.471983e-01</td><td>-4.472060e-01</td><td>-4.472098e-01</td><td>-4.472117e-01</td><td>-4.472126e-01</td><td>-4.472131e-01</td></tr>\n",
       "</tbody>\n",
       "</table>\n",
       "</dd>\n",
       "\t<dt>$iter</dt>\n",
       "\t\t<dd>19</dd>\n",
       "\t<dt>$vector</dt>\n",
       "\t\t<dd><table>\n",
       "<tbody>\n",
       "\t<tr><td>-5.970937e-07</td></tr>\n",
       "\t<tr><td> 8.944273e-01</td></tr>\n",
       "\t<tr><td>-4.472134e-01</td></tr>\n",
       "</tbody>\n",
       "</table>\n",
       "</dd>\n",
       "\t<dt>$value</dt>\n",
       "\t\t<dd>4.0000016021794</dd>\n",
       "</dl>\n"
      ],
      "text/latex": [
       "\\begin{description}\n",
       "\\item[\\$vector\\_iterations] \\begin{tabular}{lllllllllllllllllll}\n",
       " v1 & v2 & v3 & v4 & v5 & v6 & v7 & v8 & v9 & v10 & v11 & v12 & v13 & v14 & v15 & v16 & v17 & v18 & v19\\\\\n",
       "\\hline\n",
       "\t 1             & -0.1023587    & -0.06482582   & -0.03570132   & -0.01869586   & -0.009563644  & -0.004836385  & -0.002431917  & -0.0012194    & -0.0006105621 & -0.0003054967 & -0.0001528023 & -7.641462e-05 & -3.821068e-05 & -1.910618e-05 & -9.553302e-06 & -4.776704e-06 & -2.388365e-06 & -1.194186e-06\\\\\n",
       "\t 1             &  0.9212281    &  0.90756148   &  0.90145839   &  0.89812012   &  0.896325949  &  0.895390670  &  0.894912587  &  0.8946708    &  0.8945492399 &  0.8944882744 &  0.8944577475 &  8.944425e-01 &  8.944348e-01 &  8.944310e-01 &  8.944291e-01 &  8.944281e-01 &  8.944277e-01 &  8.944274e-01\\\\\n",
       "\t 1             & -0.3753152    & -0.41488525   & -0.43139098   & -0.43935260   & -0.443292600  & -0.445255159  & -0.446234858  & -0.4467243    & -0.4469689974 & -0.4470913035 & -0.4471524513 & -4.471830e-01 & -4.471983e-01 & -4.472060e-01 & -4.472098e-01 & -4.472117e-01 & -4.472126e-01 & -4.472131e-01\\\\\n",
       "\\end{tabular}\n",
       "\n",
       "\\item[\\$iter] 19\n",
       "\\item[\\$vector] \\begin{tabular}{l}\n",
       "\t -5.970937e-07\\\\\n",
       "\t  8.944273e-01\\\\\n",
       "\t -4.472134e-01\\\\\n",
       "\\end{tabular}\n",
       "\n",
       "\\item[\\$value] 4.0000016021794\n",
       "\\end{description}\n"
      ],
      "text/markdown": [
       "$vector_iterations\n",
       ":   \n",
       "v1 | v2 | v3 | v4 | v5 | v6 | v7 | v8 | v9 | v10 | v11 | v12 | v13 | v14 | v15 | v16 | v17 | v18 | v19 | \n",
       "|---|---|---|\n",
       "| 1             | -0.1023587    | -0.06482582   | -0.03570132   | -0.01869586   | -0.009563644  | -0.004836385  | -0.002431917  | -0.0012194    | -0.0006105621 | -0.0003054967 | -0.0001528023 | -7.641462e-05 | -3.821068e-05 | -1.910618e-05 | -9.553302e-06 | -4.776704e-06 | -2.388365e-06 | -1.194186e-06 | \n",
       "| 1             |  0.9212281    |  0.90756148   |  0.90145839   |  0.89812012   |  0.896325949  |  0.895390670  |  0.894912587  |  0.8946708    |  0.8945492399 |  0.8944882744 |  0.8944577475 |  8.944425e-01 |  8.944348e-01 |  8.944310e-01 |  8.944291e-01 |  8.944281e-01 |  8.944277e-01 |  8.944274e-01 | \n",
       "| 1             | -0.3753152    | -0.41488525   | -0.43139098   | -0.43935260   | -0.443292600  | -0.445255159  | -0.446234858  | -0.4467243    | -0.4469689974 | -0.4470913035 | -0.4471524513 | -4.471830e-01 | -4.471983e-01 | -4.472060e-01 | -4.472098e-01 | -4.472117e-01 | -4.472126e-01 | -4.472131e-01 | \n",
       "\n",
       "\n",
       "\n",
       "$iter\n",
       ":   19\n",
       "$vector\n",
       ":   \n",
       "| -5.970937e-07 | \n",
       "|  8.944273e-01 | \n",
       "| -4.472134e-01 | \n",
       "\n",
       "\n",
       "\n",
       "$value\n",
       ":   4.0000016021794\n",
       "\n",
       "\n"
      ],
      "text/plain": [
       "$vector_iterations\n",
       "     v1         v2          v3          v4          v5           v6\n",
       "[1,]  1 -0.1023587 -0.06482582 -0.03570132 -0.01869586 -0.009563644\n",
       "[2,]  1  0.9212281  0.90756148  0.90145839  0.89812012  0.896325949\n",
       "[3,]  1 -0.3753152 -0.41488525 -0.43139098 -0.43935260 -0.443292600\n",
       "               v7           v8         v9           v10           v11\n",
       "[1,] -0.004836385 -0.002431917 -0.0012194 -0.0006105621 -0.0003054967\n",
       "[2,]  0.895390670  0.894912587  0.8946708  0.8945492399  0.8944882744\n",
       "[3,] -0.445255159 -0.446234858 -0.4467243 -0.4469689974 -0.4470913035\n",
       "               v12           v13           v14           v15           v16\n",
       "[1,] -0.0001528023 -7.641462e-05 -3.821068e-05 -1.910618e-05 -9.553302e-06\n",
       "[2,]  0.8944577475  8.944425e-01  8.944348e-01  8.944310e-01  8.944291e-01\n",
       "[3,] -0.4471524513 -4.471830e-01 -4.471983e-01 -4.472060e-01 -4.472098e-01\n",
       "               v17           v18           v19\n",
       "[1,] -4.776704e-06 -2.388365e-06 -1.194186e-06\n",
       "[2,]  8.944281e-01  8.944277e-01  8.944274e-01\n",
       "[3,] -4.472117e-01 -4.472126e-01 -4.472131e-01\n",
       "\n",
       "$iter\n",
       "[1] 19\n",
       "\n",
       "$vector\n",
       "              [,1]\n",
       "[1,] -5.970937e-07\n",
       "[2,]  8.944273e-01\n",
       "[3,] -4.472134e-01\n",
       "\n",
       "$value\n",
       "[1] 4.000002\n"
      ]
     },
     "metadata": {},
     "output_type": "display_data"
    }
   ],
   "source": [
    "C <- matrix(c(0, 11, -5, -2, 17, -7, -4, 26, -10), 3, 3)\n",
    "eigen(C)$vectors\n",
    "powerMethod(C)"
   ]
  }
 ],
 "metadata": {
  "kernelspec": {
   "display_name": "R",
   "language": "R",
   "name": "ir"
  },
  "language_info": {
   "codemirror_mode": "r",
   "file_extension": ".r",
   "mimetype": "text/x-r-source",
   "name": "R",
   "pygments_lexer": "r",
   "version": "3.4.3"
  }
 },
 "nbformat": 4,
 "nbformat_minor": 2
}

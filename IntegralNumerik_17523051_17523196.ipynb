{
 "cells": [
  {
   "cell_type": "code",
   "execution_count": 65,
   "metadata": {},
   "outputs": [
    {
     "data": {
      "text/html": [
       "0.6"
      ],
      "text/latex": [
       "0.6"
      ],
      "text/markdown": [
       "0.6"
      ],
      "text/plain": [
       "[1] 0.6"
      ]
     },
     "metadata": {},
     "output_type": "display_data"
    }
   ],
   "source": [
    "# Metode Trapesium\n",
    "\n",
    "myf <- function(x){\n",
    "    return(4*x-x^2)\n",
    "} \n",
    "\n",
    "trapezoid <- function(f, a, b) {\n",
    "  if (is.function(f) == FALSE) {\n",
    "    stop('f must be a function with one parameter (variable)')\n",
    "  }\n",
    "   \n",
    "  h <- b - a\n",
    "   \n",
    "  fxdx <- (h / 2) * (f(a) + f(b))\n",
    "   \n",
    "  return(fxdx)\n",
    "}\n",
    "trapezoid(myf, 0, 1)"
   ]
  },
  {
   "cell_type": "code",
   "execution_count": 52,
   "metadata": {},
   "outputs": [
    {
     "data": {},
     "metadata": {},
     "output_type": "display_data"
    },
    {
     "data": {
      "image/png": "[encoded data removed]",
      "text/plain": [
       "plot without title"
      ]
     },
     "metadata": {},
     "output_type": "display_data"
    }
   ],
   "source": [
    "# Metode Trapesium\n",
    "library(ggplot2)\n",
    "f <- function(x) {\n",
    "  return(4*x-x^2)\n",
    "}\n",
    " \n",
    "df <- data.frame(cbind(c(0, 1, 1, 0), c(0, f(1), 0, 0)))\n",
    "\n",
    "ggplot(data = data.frame(x = 0), mapping = aes(x = x)) + \n",
    "  stat_function(fun = f, size = 1.05, alpha = 0.75, color='blue') + \n",
    "  geom_segment(aes(x = 0, y = 0, xend = 1, yend = f(1))) + \n",
    "  geom_segment(aes(x = 1, y = 0, xend = 1, yend = f(1))) + \n",
    "  geom_polygon(data = df, aes(x=X1, y=X2), fill = 'blue', alpha = 0.2) + \n",
    "  geom_area(stat = 'function', fun = f, fill = 'black', alpha = 0.3, xlim = c(0, 1)) + \n",
    "  xlim(c(-0.5,1))"
   ]
  },
  {
   "cell_type": "code",
   "execution_count": 60,
   "metadata": {},
   "outputs": [
    {
     "data": {
      "text/html": [
       "1.9689820195465"
      ],
      "text/latex": [
       "1.9689820195465"
      ],
      "text/markdown": [
       "1.9689820195465"
      ],
      "text/plain": [
       "[1] 1.968982"
      ]
     },
     "metadata": {},
     "output_type": "display_data"
    }
   ],
   "source": [
    "# Simpson rule\n",
    "library(pracma)\n",
    "myf <- function(x, n){\n",
    "    return(4*x-x^2/(x+n))\n",
    "} \n",
    "simpadpt(myf, 0, 1, n = 10) "
   ]
  },
  {
   "cell_type": "code",
   "execution_count": 62,
   "metadata": {},
   "outputs": [
    {
     "data": {
      "text/html": [
       "1.66666666666667"
      ],
      "text/latex": [
       "1.66666666666667"
      ],
      "text/markdown": [
       "1.66666666666667"
      ],
      "text/plain": [
       "[1] 1.666667"
      ]
     },
     "metadata": {},
     "output_type": "display_data"
    }
   ],
   "source": [
    "myf <- function(x){\n",
    "    return(4*x-x^2)\n",
    "} \n",
    "\n",
    "simpsons.rule <- function(f, a, b) {\n",
    "  if (is.function(f) == FALSE) {\n",
    "    stop('f must be a function with one parameter (variable)')\n",
    "  }\n",
    "   \n",
    "  h <- (b - a) / 2\n",
    "  x0 <- a\n",
    "  x1 <- a + h\n",
    "  x2 <- b\n",
    "   \n",
    "  s <- (h / 3) * (f(x0) + 4 * f(x1) + f(x2))\n",
    "   \n",
    "  return(s)\n",
    "}\n",
    " \n",
    "simpsons.rule(myf, 0, 1)"
   ]
  }
 ],
 "metadata": {
  "kernelspec": {
   "display_name": "R",
   "language": "R",
   "name": "ir"
  },
  "language_info": {
   "codemirror_mode": "r",
   "file_extension": ".r",
   "mimetype": "text/x-r-source",
   "name": "R",
   "pygments_lexer": "r",
   "version": "3.4.3"
  }
 },
 "nbformat": 4,
 "nbformat_minor": 2
}

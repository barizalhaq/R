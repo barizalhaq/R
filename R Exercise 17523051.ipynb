{
 "cells": [
  {
   "cell_type": "code",
   "execution_count": 4,
   "metadata": {},
   "outputs": [
    {
     "data": {
      "text/html": [
       "'( Limit( x , 0 ) ( 1 - ( ( Cos ( x ) ) / x ) ) )'"
      ],
      "text/latex": [
       "'( Limit( x , 0 ) ( 1 - ( ( Cos ( x ) ) / x ) ) )'"
      ],
      "text/markdown": [
       "'( Limit( x , 0 ) ( 1 - ( ( Cos ( x ) ) / x ) ) )'"
      ],
      "text/plain": [
       "expression(NaN)"
      ]
     },
     "metadata": {},
     "output_type": "display_data"
    }
   ],
   "source": [
    "#Limit 1\n",
    "library(Ryacas)\n",
    "x<-Sym(\"x\")\n",
    "Limit(1-cos(x)/x, x, 0)"
   ]
  },
  {
   "cell_type": "code",
   "execution_count": 12,
   "metadata": {},
   "outputs": [
    {
     "data": {
      "text/html": [
       "'( Limit( x , 0 ) ( ( ( 2 * ( ( -3 + x ) ^ 2 ) ) - 18 ) / x ) )'"
      ],
      "text/latex": [
       "'( Limit( x , 0 ) ( ( ( 2 * ( ( -3 + x ) \\textasciicircum{} 2 ) ) - 18 ) / x ) )'"
      ],
      "text/markdown": [
       "'( Limit( x , 0 ) ( ( ( 2 * ( ( -3 + x ) ^ 2 ) ) - 18 ) / x ) )'"
      ],
      "text/plain": [
       "expression(-12)"
      ]
     },
     "metadata": {},
     "output_type": "display_data"
    }
   ],
   "source": [
    "#Limit 2\n",
    "library(Ryacas)\n",
    "x<-Sym(\"x\")\n",
    "Limit((2*(-3+x)^2-18)/x, x, 0)"
   ]
  },
  {
   "cell_type": "code",
   "execution_count": 11,
   "metadata": {},
   "outputs": [
    {
     "data": {
      "text/html": [
       "'( Limit( x , 4 ) ( x - ( ( Sqrt ( ( ( 3 * x ) + 4 ) ) ) / ( 4 - x ) ) ) )'"
      ],
      "text/latex": [
       "'( Limit( x , 4 ) ( x - ( ( Sqrt ( ( ( 3 * x ) + 4 ) ) ) / ( 4 - x ) ) ) )'"
      ],
      "text/markdown": [
       "'( Limit( x , 4 ) ( x - ( ( Sqrt ( ( ( 3 * x ) + 4 ) ) ) / ( 4 - x ) ) ) )'"
      ],
      "text/plain": [
       "expression(NaN)"
      ]
     },
     "metadata": {},
     "output_type": "display_data"
    }
   ],
   "source": [
    "#Limit 3\n",
    "library(Ryacas)\n",
    "x<-Sym(\"x\")\n",
    "Limit(x-sqrt(3*x+4)/(4-x), x, 4)"
   ]
  },
  {
   "cell_type": "code",
   "execution_count": 49,
   "metadata": {},
   "outputs": [
    {
     "data": {
      "text/plain": [
       "expression({\n",
       "    .expr1 <- x + 1\n",
       "    .expr2 <- x * .expr1\n",
       "    .value <- sqrt(.expr2)\n",
       "    .grad <- array(0, c(length(.value), 1L), list(NULL, c(\"x\")))\n",
       "    .grad[, \"x\"] <- 0.5 * ((.expr1 + x) * .expr2^-0.5)\n",
       "    attr(.value, \"gradient\") <- .grad\n",
       "    .value\n",
       "})"
      ]
     },
     "metadata": {},
     "output_type": "display_data"
    }
   ],
   "source": [
    "#Turunan 1\n",
    "library(Ryacas);\n",
    "x <- Sym(\"x\");\n",
    "s <- expression(sqrt(x*(x+1)));\n",
    "deriv(s,x);"
   ]
  },
  {
   "cell_type": "code",
   "execution_count": 48,
   "metadata": {},
   "outputs": [
    {
     "data": {
      "text/plain": [
       "expression({\n",
       "    .expr3 <- 2 * x^2 - 3\n",
       "    .expr4 <- sqrt(x)\n",
       "    .value <- .expr3/.expr4\n",
       "    .grad <- array(0, c(length(.value), 1L), list(NULL, c(\"x\")))\n",
       "    .grad[, \"x\"] <- 2 * (2 * x)/.expr4 - .expr3 * (0.5 * x^-0.5)/.expr4^2\n",
       "    attr(.value, \"gradient\") <- .grad\n",
       "    .value\n",
       "})"
      ]
     },
     "metadata": {},
     "output_type": "display_data"
    }
   ],
   "source": [
    "#Turunan 2\n",
    "library(Ryacas);\n",
    "x <- Sym(\"x\");\n",
    "s <- expression((2*x^2-3) / sqrt(x));\n",
    "deriv(s,x);"
   ]
  },
  {
   "cell_type": "code",
   "execution_count": 51,
   "metadata": {},
   "outputs": [
    {
     "data": {
      "text/plain": [
       "expression({\n",
       "    .expr1 <- x - 1\n",
       "    .expr2 <- x + 1\n",
       "    .value <- .expr1/.expr2\n",
       "    .grad <- array(0, c(length(.value), 1L), list(NULL, c(\"x\")))\n",
       "    .grad[, \"x\"] <- 1/.expr2 - .expr1/.expr2^2\n",
       "    attr(.value, \"gradient\") <- .grad\n",
       "    .value\n",
       "})"
      ]
     },
     "metadata": {},
     "output_type": "display_data"
    }
   ],
   "source": [
    "#Turunan 3\n",
    "library(Ryacas);\n",
    "x <- Sym(\"x\");\n",
    "s <- expression((x-1) / (x+1));\n",
    "deriv(s,x);"
   ]
  },
  {
   "cell_type": "code",
   "execution_count": null,
   "metadata": {},
   "outputs": [],
   "source": []
  },
  {
   "cell_type": "code",
   "execution_count": 61,
   "metadata": {},
   "outputs": [
    {
     "data": {
      "text/html": [
       "'( Integrate( x ) ( 2 * ( x ^ 3 ) ) )'"
      ],
      "text/latex": [
       "'( Integrate( x ) ( 2 * ( x \\textasciicircum{} 3 ) ) )'"
      ],
      "text/markdown": [
       "'( Integrate( x ) ( 2 * ( x ^ 3 ) ) )'"
      ],
      "text/plain": [
       "expression(x^4/2)"
      ]
     },
     "metadata": {},
     "output_type": "display_data"
    },
    {
     "data": {
      "text/plain": [
       "312 with absolute error < 3.5e-12"
      ]
     },
     "metadata": {},
     "output_type": "display_data"
    }
   ],
   "source": [
    "#Integral 1\n",
    "integ1 <- function(x){\n",
    "    return(2*x^3)\n",
    "}\n",
    "library(Ryacas)\n",
    "x<-Sym(\"x\")\n",
    "Integrate(2*x^3,x)\n",
    "\n",
    "integrate(f=integ1, lower=1, upper=5)"
   ]
  },
  {
   "cell_type": "code",
   "execution_count": 63,
   "metadata": {},
   "outputs": [
    {
     "data": {
      "text/html": [
       "'( Integrate( x ) ( 1 - ( 5 * ( x ^ 4 ) ) ) )'"
      ],
      "text/latex": [
       "'( Integrate( x ) ( 1 - ( 5 * ( x \\textasciicircum{} 4 ) ) ) )'"
      ],
      "text/markdown": [
       "'( Integrate( x ) ( 1 - ( 5 * ( x ^ 4 ) ) ) )'"
      ],
      "text/plain": [
       "expression(x - x^5)"
      ]
     },
     "metadata": {},
     "output_type": "display_data"
    },
    {
     "data": {
      "text/plain": [
       "-3120 with absolute error < 3.5e-11"
      ]
     },
     "metadata": {},
     "output_type": "display_data"
    }
   ],
   "source": [
    "#Integral 2\n",
    "integ2 <- function(x){\n",
    "    return(1-5*x^4)\n",
    "}\n",
    "library(Ryacas)\n",
    "x<-Sym(\"x\")\n",
    "Integrate(1-5*x^4,x)\n",
    "\n",
    "integrate(f=integ2, lower=0, upper=5)"
   ]
  },
  {
   "cell_type": "code",
   "execution_count": 65,
   "metadata": {},
   "outputs": [
    {
     "data": {
      "text/html": [
       "'( Integrate( x ) ( ( ( x ^ 4 ) - ( 3 * ( x ^ 2 ) ) ) + 5 ) )'"
      ],
      "text/latex": [
       "'( Integrate( x ) ( ( ( x \\textasciicircum{} 4 ) - ( 3 * ( x \\textasciicircum{} 2 ) ) ) + 5 ) )'"
      ],
      "text/markdown": [
       "'( Integrate( x ) ( ( ( x ^ 4 ) - ( 3 * ( x ^ 2 ) ) ) + 5 ) )'"
      ],
      "text/plain": [
       "expression(x^5/5 - x^3 + 5 * x)"
      ]
     },
     "metadata": {},
     "output_type": "display_data"
    },
    {
     "data": {
      "text/plain": [
       "525 with absolute error < 5.8e-12"
      ]
     },
     "metadata": {},
     "output_type": "display_data"
    }
   ],
   "source": [
    "#Integral 3\n",
    "integ3 <- function(x){\n",
    "    return(x^4-3*x^2+5)\n",
    "}\n",
    "library(Ryacas)\n",
    "x<-Sym(\"x\")\n",
    "Integrate(x^4-3*x^2+5,x)\n",
    "\n",
    "integrate(f=integ3, lower=0, upper=5)"
   ]
  },
  {
   "cell_type": "code",
   "execution_count": 67,
   "metadata": {},
   "outputs": [
    {
     "data": {
      "text/html": [
       "'( Integrate( x ) ( ( x ^ 2 ) + ( 0.5 * ( Sqrt ( x ) ) ) ) )'"
      ],
      "text/latex": [
       "'( Integrate( x ) ( ( x \\textasciicircum{} 2 ) + ( 0.5 * ( Sqrt ( x ) ) ) ) )'"
      ],
      "text/markdown": [
       "'( Integrate( x ) ( ( x ^ 2 ) + ( 0.5 * ( Sqrt ( x ) ) ) ) )'"
      ],
      "text/plain": [
       "expression((x^3 + root(x, 2)^3)/3)"
      ]
     },
     "metadata": {},
     "output_type": "display_data"
    },
    {
     "data": {
      "text/plain": [
       "45.39347 with absolute error < 0.0051"
      ]
     },
     "metadata": {},
     "output_type": "display_data"
    }
   ],
   "source": [
    "#Integral 4\n",
    "integ4 <- function(x){\n",
    "    return(x^2+(1/2*sqrt(x)))\n",
    "}\n",
    "library(Ryacas)\n",
    "x<-Sym(\"x\")\n",
    "Integrate(x^2+(1/2*sqrt(x)),x)\n",
    "\n",
    "integrate(f=integ4, lower=0, upper=5)"
   ]
  },
  {
   "cell_type": "code",
   "execution_count": 68,
   "metadata": {},
   "outputs": [
    {
     "data": {
      "text/html": [
       "'( Integrate( x ) ( x * ( ( 2 - ( 3 * x ) ) ^ 2 ) ) )'"
      ],
      "text/latex": [
       "'( Integrate( x ) ( x * ( ( 2 - ( 3 * x ) ) \\textasciicircum{} 2 ) ) )'"
      ],
      "text/markdown": [
       "'( Integrate( x ) ( x * ( ( 2 - ( 3 * x ) ) ^ 2 ) ) )'"
      ],
      "text/plain": [
       "expression(9 * x^4/4 - 4 * x^3 + 2 * x^2)"
      ]
     },
     "metadata": {},
     "output_type": "display_data"
    },
    {
     "data": {
      "text/plain": [
       "956.25 with absolute error < 1.1e-11"
      ]
     },
     "metadata": {},
     "output_type": "display_data"
    }
   ],
   "source": [
    "#Integral 5\n",
    "integ5 <- function(x){\n",
    "    return(x*(2-3*x)^2)\n",
    "}\n",
    "library(Ryacas)\n",
    "x<-Sym(\"x\")\n",
    "Integrate(x*(2-3*x)^2,x)\n",
    "\n",
    "integrate(f=integ5, lower=0, upper=5)"
   ]
  }
 ],
 "metadata": {
  "kernelspec": {
   "display_name": "R",
   "language": "R",
   "name": "ir"
  },
  "language_info": {
   "codemirror_mode": "r",
   "file_extension": ".r",
   "mimetype": "text/x-r-source",
   "name": "R",
   "pygments_lexer": "r",
   "version": "3.4.3"
  }
 },
 "nbformat": 4,
 "nbformat_minor": 2
}

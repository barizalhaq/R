{
 "cells": [
  {
   "cell_type": "code",
   "execution_count": 4,
   "metadata": {},
   "outputs": [
    {
     "data": {
      "text/html": [
       "'( D( x , 1 ) x )'"
      ],
      "text/latex": [
       "'( D( x , 1 ) x )'"
      ],
      "text/markdown": [
       "'( D( x , 1 ) x )'"
      ],
      "text/plain": [
       "expression(1)"
      ]
     },
     "metadata": {},
     "output_type": "display_data"
    }
   ],
   "source": [
    "#1\n",
    "Rule11 <- function(x){\n",
    "    return(1 / sqrt(4*x))\n",
    "}\n",
    "\n",
    "library(Ryacas)\n",
    "x <- Sym(\"x\")\n",
    "deriv(x)"
   ]
  },
  {
   "cell_type": "code",
   "execution_count": 30,
   "metadata": {},
   "outputs": [
    {
     "data": {
      "text/html": [
       "'( D( x , 1 ) x )'"
      ],
      "text/latex": [
       "'( D( x , 1 ) x )'"
      ],
      "text/markdown": [
       "'( D( x , 1 ) x )'"
      ],
      "text/plain": [
       "expression(1)"
      ]
     },
     "metadata": {},
     "output_type": "display_data"
    },
    {
     "data": {
      "text/html": [
       "64"
      ],
      "text/latex": [
       "64"
      ],
      "text/markdown": [
       "64"
      ],
      "text/plain": [
       "[1] 64"
      ]
     },
     "metadata": {},
     "output_type": "display_data"
    }
   ],
   "source": [
    "#2.a\n",
    "deriv1 <- function(y){\n",
    "    return(2*x^5)\n",
    "}\n",
    "\n",
    "library(Ryacas)\n",
    "x <- Sym(\"x\")\n",
    "deriv(x)"
   ]
  },
  {
   "cell_type": "code",
   "execution_count": null,
   "metadata": {},
   "outputs": [],
   "source": [
    "#2.b\n",
    "deriv2 <- function(y){\n",
    "    return(x^2+4)\n",
    "}\n",
    "\n",
    "library(Ryacas)\n",
    "x <- Sym(\"x\")\n",
    "deriv(x)"
   ]
  },
  {
   "cell_type": "code",
   "execution_count": null,
   "metadata": {},
   "outputs": [],
   "source": [
    "#2.c\n",
    "deriv3 <- function(y){\n",
    "    return(x^5-6*x^7)\n",
    "}\n",
    "\n",
    "library(Ryacas)\n",
    "x <- Sym(\"x\")\n",
    "deriv(x)"
   ]
  }
 ],
 "metadata": {
  "kernelspec": {
   "display_name": "R",
   "language": "R",
   "name": "ir"
  },
  "language_info": {
   "codemirror_mode": "r",
   "file_extension": ".r",
   "mimetype": "text/x-r-source",
   "name": "R",
   "pygments_lexer": "r",
   "version": "3.4.3"
  }
 },
 "nbformat": 4,
 "nbformat_minor": 2
}
